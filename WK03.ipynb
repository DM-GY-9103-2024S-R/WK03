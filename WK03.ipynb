{
  "nbformat": 4,
  "nbformat_minor": 0,
  "metadata": {
    "colab": {
      "provenance": [],
      "authorship_tag": "ABX9TyNQTBfqLCC7wcgGnR5GaZ9h"
    },
    "kernelspec": {
      "name": "python3",
      "display_name": "Python 3"
    },
    "language_info": {
      "name": "python"
    }
  },
  "cells": [
    {
      "cell_type": "markdown",
      "source": [
        "# Week 03 exercises"
      ],
      "metadata": {
        "id": "Ty-DVrJlaN1T"
      }
    },
    {
      "cell_type": "markdown",
      "source": [
        "## Setup\n",
        "\n",
        "Include some helper functions and libraries"
      ],
      "metadata": {
        "id": "s-e8uvrIca09"
      }
    },
    {
      "cell_type": "code",
      "source": [
        "!wget -q https://github.com/DM-GY-9103-2024S-R/WK02/raw/main/WK02_utils.py\n",
        "\n",
        "from WK02_utils import object_from_json_url\n",
        "\n",
        "import matplotlib.pyplot as plt\n",
        "import random"
      ],
      "metadata": {
        "id": "uHIQDMJ-WTei"
      },
      "execution_count": null,
      "outputs": []
    },
    {
      "cell_type": "markdown",
      "source": [
        "## Lists"
      ],
      "metadata": {
        "id": "sX5wEtIkWKhD"
      }
    },
    {
      "cell_type": "markdown",
      "source": [
        "### Create a list of 10 random numbers between 0 and 2000"
      ],
      "metadata": {
        "id": "hBs429yN9wYE"
      }
    },
    {
      "cell_type": "code",
      "source": [
        "list_of_randoms = []\n",
        "\n",
        "for i in range(0, 10):\n",
        "  n = random.randint(0, 2000)\n",
        "  list_of_randoms.append(n)\n",
        "\n",
        "print(list_of_randoms)\n",
        "print(len(list_of_randoms))"
      ],
      "metadata": {
        "id": "36_m35zIyN2h"
      },
      "execution_count": null,
      "outputs": []
    },
    {
      "cell_type": "markdown",
      "source": [
        "### Print the numbers and their index"
      ],
      "metadata": {
        "id": "7Aw4WiDS92MU"
      }
    },
    {
      "cell_type": "code",
      "source": [
        "for i in range(0, 10):\n",
        "  print(\"element\", i, \"is\", list_of_randoms[i])"
      ],
      "metadata": {
        "id": "h3ochjQlzQ4e"
      },
      "execution_count": null,
      "outputs": []
    },
    {
      "cell_type": "markdown",
      "source": [
        "### Python has a very useful function for sorting lists."
      ],
      "metadata": {
        "id": "8sYq0tQj6z0e"
      }
    },
    {
      "cell_type": "code",
      "source": [
        "my_sorted_list = sorted(list_of_randoms)\n",
        "\n",
        "print(my_sorted_list)\n",
        "print(len(my_sorted_list))"
      ],
      "metadata": {
        "id": "DJlfGTZZ6SJt"
      },
      "execution_count": null,
      "outputs": []
    },
    {
      "cell_type": "markdown",
      "source": [
        "### With a sorted list we can print the 5 smallest and 5 largest elements"
      ],
      "metadata": {
        "id": "zIJjJ8rx_W8s"
      }
    },
    {
      "cell_type": "code",
      "source": [
        "print(my_sorted_list[:5])\n",
        "print(my_sorted_list[-5:])"
      ],
      "metadata": {
        "id": "ytoCAy4p_dCZ"
      },
      "execution_count": null,
      "outputs": []
    },
    {
      "cell_type": "markdown",
      "source": [
        "## Objects/Dictionaries"
      ],
      "metadata": {
        "id": "tEQUt3lwY2xE"
      }
    },
    {
      "cell_type": "markdown",
      "source": [
        "### Creating objects"
      ],
      "metadata": {
        "id": "QSodBdxw0byR"
      }
    },
    {
      "cell_type": "code",
      "source": [
        "my_info = {\n",
        "  \"name\": \"thiago\",\n",
        "  \"id\": 8114,\n",
        "  \"zip\": 11001,\n",
        "  \"grades\": [90, 80, 60],\n",
        "  \"attendance\": [True, True, False, True, True],\n",
        "  \"final grade\": \"A\"\n",
        "}"
      ],
      "metadata": {
        "id": "Hukt4YNv0avQ"
      },
      "execution_count": null,
      "outputs": []
    },
    {
      "cell_type": "code",
      "source": [
        "my_info"
      ],
      "metadata": {
        "id": "-LBHNWgd9t3k"
      },
      "execution_count": null,
      "outputs": []
    },
    {
      "cell_type": "markdown",
      "source": [
        "### Iterating over key/values"
      ],
      "metadata": {
        "id": "k2sCp_La1PiP"
      }
    },
    {
      "cell_type": "code",
      "source": [
        "for key, val in my_info.items():\n",
        "  print(\"key\", key, \"has value\", val)"
      ],
      "metadata": {
        "id": "Mkw7MQWg1SYW"
      },
      "execution_count": null,
      "outputs": []
    },
    {
      "cell_type": "markdown",
      "source": [
        "### Accessing values at specific keys"
      ],
      "metadata": {
        "id": "RJog1ZUU1kqO"
      }
    },
    {
      "cell_type": "code",
      "source": [
        "my_grades = my_info[\"grades\"]\n",
        "print(my_grades)"
      ],
      "metadata": {
        "id": "xvoyXmaJ1jtp"
      },
      "execution_count": null,
      "outputs": []
    },
    {
      "cell_type": "code",
      "source": [
        "# TODO: Sum of grades"
      ],
      "metadata": {
        "id": "oJFC6YXM1zXp"
      },
      "execution_count": null,
      "outputs": []
    },
    {
      "cell_type": "code",
      "source": [
        "# TODO: Average attendance"
      ],
      "metadata": {
        "id": "_RdS3XvI11jv"
      },
      "execution_count": null,
      "outputs": []
    },
    {
      "cell_type": "markdown",
      "source": [
        "### List of objects\n",
        "\n",
        "Creating a list of 10 objects with random heights and brooklyn zip codes."
      ],
      "metadata": {
        "id": "YIV3UD4N7rvd"
      }
    },
    {
      "cell_type": "code",
      "source": [
        "my_data = []\n",
        "\n",
        "for c in range(0, 10):\n",
        "  my_object = {\n",
        "    \"height\": random.randint(60, 70),\n",
        "    \"zip\": random.randint(11200, 11240)\n",
        "  }\n",
        "\n",
        "  my_data.append(my_object)"
      ],
      "metadata": {
        "id": "JZ0HeNOh7xRY"
      },
      "execution_count": null,
      "outputs": []
    },
    {
      "cell_type": "code",
      "source": [
        "for d in my_data:\n",
        "  print(d)"
      ],
      "metadata": {
        "id": "r9uxkXFJ-31z"
      },
      "execution_count": null,
      "outputs": []
    },
    {
      "cell_type": "markdown",
      "source": [
        "### Get list of all heights"
      ],
      "metadata": {
        "id": "6MN8kSsb-Wuf"
      }
    },
    {
      "cell_type": "code",
      "source": [
        "heights = []\n",
        "\n",
        "for d in my_data:\n",
        "  # TODO\n",
        "  pass"
      ],
      "metadata": {
        "id": "lwYlxres-da4"
      },
      "execution_count": null,
      "outputs": []
    },
    {
      "cell_type": "markdown",
      "source": [
        "### Sort by key values\n",
        "\n",
        "For example, sort objects by zip code.\n",
        "\n",
        "We could first get all the zip codes and then sort the new list:"
      ],
      "metadata": {
        "id": "JZGXUIl5_Ul5"
      }
    },
    {
      "cell_type": "code",
      "source": [
        "zips = []\n",
        "\n",
        "for d in my_data:\n",
        "  zips.append(d[\"zip\"])\n",
        "\n",
        "print(\"original:\")\n",
        "print(zips)\n",
        "\n",
        "by_zip = sorted(zips)\n",
        "\n",
        "print(\"sorted:\")\n",
        "print(by_zip)"
      ],
      "metadata": {
        "id": "xUUNiR8hBxN5"
      },
      "execution_count": null,
      "outputs": []
    }
  ]
}