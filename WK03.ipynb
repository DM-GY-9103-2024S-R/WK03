{
  "nbformat": 4,
  "nbformat_minor": 0,
  "metadata": {
    "colab": {
      "provenance": [],
      "authorship_tag": "ABX9TyNVx51lAArXjCHDehhLF12K"
    },
    "kernelspec": {
      "name": "python3",
      "display_name": "Python 3"
    },
    "language_info": {
      "name": "python"
    }
  },
  "cells": [
    {
      "cell_type": "markdown",
      "source": [
        "# Week 02 exercises"
      ],
      "metadata": {
        "id": "Ty-DVrJlaN1T"
      }
    },
    {
      "cell_type": "markdown",
      "source": [
        "## Setup\n",
        "\n",
        "Include some helper functions and libraries"
      ],
      "metadata": {
        "id": "s-e8uvrIca09"
      }
    },
    {
      "cell_type": "code",
      "source": [
        "!wget -q https://github.com/DM-GY-9103-2024S-R/WK02/raw/main/WK02_utils.py\n",
        "\n",
        "from WK02_utils import object_from_json_url\n",
        "\n",
        "import matplotlib.pyplot as plt\n",
        "import random"
      ],
      "metadata": {
        "id": "uHIQDMJ-WTei"
      },
      "execution_count": null,
      "outputs": []
    },
    {
      "cell_type": "markdown",
      "source": [
        "## Lists"
      ],
      "metadata": {
        "id": "sX5wEtIkWKhD"
      }
    },
    {
      "cell_type": "markdown",
      "source": [
        "### Create a list with 100 number 2's"
      ],
      "metadata": {
        "id": "u4rfXFu89qme"
      }
    },
    {
      "cell_type": "code",
      "source": [
        "list_A = []\n",
        "for i in range(0, 100):\n",
        "  list_A.append(2)\n",
        "\n",
        "print(len(list_A))"
      ],
      "metadata": {
        "id": "bUjv88t8cPNh"
      },
      "execution_count": null,
      "outputs": []
    },
    {
      "cell_type": "markdown",
      "source": [
        "### Create a list with all numbers from 0 to 99"
      ],
      "metadata": {
        "id": "rR_tplFVYlew"
      }
    },
    {
      "cell_type": "code",
      "source": [
        "list_99 = []\n",
        "for i in range(0, 100):\n",
        "  list_99.append(i)\n",
        "\n",
        "print(len(list_99), list_99)"
      ],
      "metadata": {
        "id": "MVyDponVYpwL"
      },
      "execution_count": null,
      "outputs": []
    },
    {
      "cell_type": "markdown",
      "source": [
        "### Create a list of 10 random numbers between 0 and 100"
      ],
      "metadata": {
        "id": "hBs429yN9wYE"
      }
    },
    {
      "cell_type": "code",
      "source": [
        "list_of_randoms = []\n",
        "\n",
        "for i in range(0, 10):\n",
        "  n = random.randint(0, 100)\n",
        "  list_of_randoms.append(n)\n",
        "\n",
        "print(list_of_randoms)"
      ],
      "metadata": {
        "id": "36_m35zIyN2h"
      },
      "execution_count": null,
      "outputs": []
    },
    {
      "cell_type": "markdown",
      "source": [
        "### Print the numbers and their index"
      ],
      "metadata": {
        "id": "7Aw4WiDS92MU"
      }
    },
    {
      "cell_type": "code",
      "source": [
        "for i in range(0, 10):\n",
        "  print(\"element \", i, \" is \", list_of_randoms[i])"
      ],
      "metadata": {
        "id": "h3ochjQlzQ4e"
      },
      "execution_count": null,
      "outputs": []
    },
    {
      "cell_type": "markdown",
      "source": [
        "### Create a list of 100 random numbers between 0 and 1000"
      ],
      "metadata": {
        "id": "5_-v7iTl955Q"
      }
    },
    {
      "cell_type": "code",
      "source": [
        "list_of_randoms = []\n",
        "\n",
        "for i in range(0, 100):\n",
        "  n = random.randint(0, 1000)\n",
        "  list_of_randoms.append(n)\n",
        "\n",
        "print(list_of_randoms)"
      ],
      "metadata": {
        "id": "5fYaP253u7yB"
      },
      "execution_count": null,
      "outputs": []
    },
    {
      "cell_type": "markdown",
      "source": [
        "### Create a list of random length N with random numbers between 0 and 1000, and where N is a random number between 100 and 250.\n",
        "\n",
        "Now not only the eelements of the list are random, but also its length."
      ],
      "metadata": {
        "id": "d6HZ54wJ-GzP"
      }
    },
    {
      "cell_type": "code",
      "source": [
        "num_elements = random(100, 250)\n",
        "list_of_randoms = []\n",
        "\n",
        "for i in range(0, num_elements):\n",
        "  n = random.randint(0, 1000)\n",
        "  list_of_randoms.append(n)\n",
        "\n",
        "print(list_of_randoms)"
      ],
      "metadata": {
        "id": "0kBHR8Ao-AOM"
      },
      "execution_count": null,
      "outputs": []
    },
    {
      "cell_type": "markdown",
      "source": [
        "### Find the largest element on a list\n",
        "\n",
        "Go through all of the elements and compare each element to the largest number seen so far.\n",
        "\n",
        "Update the `largest` variable if we encounter a larger number."
      ],
      "metadata": {
        "id": "XfMx81LP-b_h"
      }
    },
    {
      "cell_type": "code",
      "source": [
        "largest = list_of_randoms[0]\n",
        "\n",
        "for n in list_of_randoms:\n",
        "  if n > largest:\n",
        "    largest = n\n",
        "\n",
        "print(largest)"
      ],
      "metadata": {
        "id": "J7eLIAnwxODF"
      },
      "execution_count": null,
      "outputs": []
    },
    {
      "cell_type": "markdown",
      "source": [
        "### Find the smallest element on a list\n",
        "\n",
        "Go through all of the elements and compare each element to the smallest number seen so far.\n",
        "\n",
        "Update the `smallest` variable if we encounter a smaller number."
      ],
      "metadata": {
        "id": "OQoQSbbC-7Gg"
      }
    },
    {
      "cell_type": "code",
      "source": [
        "smallest = list_of_randoms[0]\n",
        "\n",
        "for n in list_of_randoms:\n",
        "  if n < smallest:\n",
        "    smallest = n\n",
        "\n",
        "print(smallest)"
      ],
      "metadata": {
        "id": "5OSOQAVc3s3X"
      },
      "execution_count": null,
      "outputs": []
    },
    {
      "cell_type": "markdown",
      "source": [
        "### Find the sum of all elements on a list\n",
        "\n",
        "Go through all of the elements and add their values to an accumulator variable."
      ],
      "metadata": {
        "id": "rFL_vZuR_A2Z"
      }
    },
    {
      "cell_type": "code",
      "source": [
        "my_sum = 0\n",
        "\n",
        "for n in list_of_randoms:\n",
        "  my_sum += n\n",
        "\n",
        "print(my_sum)"
      ],
      "metadata": {
        "id": "g4FjyViC4T_p"
      },
      "execution_count": null,
      "outputs": []
    },
    {
      "cell_type": "markdown",
      "source": [
        "### Python has built in functions for doing these things"
      ],
      "metadata": {
        "id": "VlI-SzPa_Ja4"
      }
    },
    {
      "cell_type": "code",
      "source": [
        "print(min(list_of_randoms), max(list_of_randoms), sum(list_of_randoms))"
      ],
      "metadata": {
        "id": "ruGHhgm05p_t"
      },
      "execution_count": null,
      "outputs": []
    },
    {
      "cell_type": "markdown",
      "source": [
        "### Python also has a function for sorting a list."
      ],
      "metadata": {
        "id": "8sYq0tQj6z0e"
      }
    },
    {
      "cell_type": "code",
      "source": [
        "my_sorted_list = sorted(list_of_randoms)\n",
        "print(my_sorted_list)"
      ],
      "metadata": {
        "id": "DJlfGTZZ6SJt"
      },
      "execution_count": null,
      "outputs": []
    },
    {
      "cell_type": "markdown",
      "source": [
        "### With a sorted list we can print the 5 smallest and 5 largest elements"
      ],
      "metadata": {
        "id": "zIJjJ8rx_W8s"
      }
    },
    {
      "cell_type": "code",
      "source": [
        "print(my_sorted_list[:5], my_sorted_list[-5:])"
      ],
      "metadata": {
        "id": "ytoCAy4p_dCZ"
      },
      "execution_count": null,
      "outputs": []
    },
    {
      "cell_type": "markdown",
      "source": [
        "## Objects/Dictionaries"
      ],
      "metadata": {
        "id": "tEQUt3lwY2xE"
      }
    },
    {
      "cell_type": "code",
      "source": [
        "# TODO:\n",
        "  # Create Objs\n",
        "  # Iterate Objs\n",
        "  # Get all values with a key\n",
        "  # Sort Obj by key\n",
        "  # Get Min/Max of key (?)"
      ],
      "metadata": {
        "id": "ihnW6xNVY5Z5"
      },
      "execution_count": null,
      "outputs": []
    },
    {
      "cell_type": "markdown",
      "source": [
        "## Bigger Lists"
      ],
      "metadata": {
        "id": "1TXg7A_icYXE"
      }
    },
    {
      "cell_type": "code",
      "source": [
        "HEIGHT_FILE = \"https://dm-gy-9103-2024s-r.github.io/assets/datasets/list_height.json\"\n",
        "\n",
        "# Use the object_from_json_url() function to get the contents\n",
        "# from the json file into a Python object called \"heights\"\n",
        "\n",
        "heights = object_from_json_url(HEIGHT_FILE)\n",
        "\n",
        "# look at some of the data"
      ],
      "metadata": {
        "id": "M2MhJi4pcoKv"
      },
      "execution_count": null,
      "outputs": []
    },
    {
      "cell_type": "code",
      "source": [
        "# Other files\n",
        "\n",
        "WEIGHT_FILE = \"https://dm-gy-9103-2024s-r.github.io/assets/datasets/list_weight.json\"\n",
        "ANSUR_FILE = \"https://dm-gy-9103-2024s-r.github.io/assets/datasets/list_age_height_weight.json\"\n",
        "\n",
        "weights = object_from_json_url(WEIGHT_FILE)\n",
        "ansur = object_from_json_url(ANSUR_FILE)\n",
        "\n",
        "# look at some of the data"
      ],
      "metadata": {
        "id": "dyvLoSIGnecd"
      },
      "execution_count": null,
      "outputs": []
    },
    {
      "cell_type": "code",
      "source": [
        "# json version\n",
        "\n",
        "ANSUR_OBJ_FILE = \"https://dm-gy-9103-2024s-r.github.io/assets/datasets/ansur_age_height_weight.json\"\n",
        "\n",
        "ansur = object_from_json_url(ANSUR_OBJ_FILE)\n",
        "\n",
        "# look at some of the data"
      ],
      "metadata": {
        "id": "eP07D04AW4ab"
      },
      "execution_count": null,
      "outputs": []
    },
    {
      "cell_type": "code",
      "source": [
        "# more complete json version\n",
        "\n",
        "ANSUR_OBJ_FILE = \"https://dm-gy-9103-2024s-r.github.io/assets/datasets/ansur_wk02.json\"\n",
        "\n",
        "ansur = object_from_json_url(ANSUR_OBJ_FILE)\n",
        "\n",
        "# look at some of the data"
      ],
      "metadata": {
        "id": "ts0Y8VopXcK0"
      },
      "execution_count": null,
      "outputs": []
    },
    {
      "cell_type": "markdown",
      "source": [
        "## Plots\n",
        "\n",
        "We can use the [matplot](https://matplotlib.org/stable/api/pyplot_summary.html) library to visualize our data."
      ],
      "metadata": {
        "id": "57fBpk_6dsvw"
      }
    },
    {
      "cell_type": "code",
      "source": [
        "plt.plot(heights, 'bo', markersize=2)\n",
        "plt.show()"
      ],
      "metadata": {
        "id": "L2P8OQxHd2E0"
      },
      "execution_count": null,
      "outputs": []
    },
    {
      "cell_type": "code",
      "source": [
        "# plot weights"
      ],
      "metadata": {
        "id": "HerDD9h0kCWN"
      },
      "execution_count": null,
      "outputs": []
    },
    {
      "cell_type": "code",
      "source": [
        "# plot sorted"
      ],
      "metadata": {
        "id": "QhuUqx0Cn61r"
      },
      "execution_count": null,
      "outputs": []
    },
    {
      "cell_type": "markdown",
      "source": [
        "## Histograms"
      ],
      "metadata": {
        "id": "DWExTIuKgWkw"
      }
    },
    {
      "cell_type": "code",
      "source": [
        "plt.hist(heights, bins=32)\n",
        "plt.show()"
      ],
      "metadata": {
        "id": "2Lm0SVgXd9oh"
      },
      "execution_count": null,
      "outputs": []
    },
    {
      "cell_type": "markdown",
      "source": [
        "## Correlation"
      ],
      "metadata": {
        "id": "G4lJZM-HxNc3"
      }
    },
    {
      "cell_type": "code",
      "source": [
        "# get \"columns\""
      ],
      "metadata": {
        "id": "qCp1wD28xTS3"
      },
      "execution_count": null,
      "outputs": []
    }
  ]
}