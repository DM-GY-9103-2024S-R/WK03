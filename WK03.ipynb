{
  "cells": [
    {
      "cell_type": "markdown",
      "metadata": {
        "id": "Ty-DVrJlaN1T"
      },
      "source": [
        "# Week 03 exercises"
      ]
    },
    {
      "cell_type": "markdown",
      "metadata": {
        "id": "s-e8uvrIca09"
      },
      "source": [
        "## Setup\n",
        "\n",
        "Include some helper functions and libraries"
      ]
    },
    {
      "cell_type": "code",
      "execution_count": null,
      "metadata": {},
      "outputs": [],
      "source": [
        "!wget -q https://github.com/DM-GY-9103-2024S-R/9103-utils/raw/main/src/io_utils.py"
      ]
    },
    {
      "cell_type": "code",
      "execution_count": null,
      "metadata": {
        "id": "uHIQDMJ-WTei"
      },
      "outputs": [],
      "source": [
        "import random\n",
        "\n",
        "from io_utils import print_list_with_index"
      ]
    },
    {
      "cell_type": "markdown",
      "metadata": {
        "id": "sX5wEtIkWKhD"
      },
      "source": [
        "## Lists"
      ]
    },
    {
      "cell_type": "markdown",
      "metadata": {
        "id": "hBs429yN9wYE"
      },
      "source": [
        "### Create a list of 10 random numbers between 0 and 2000"
      ]
    },
    {
      "cell_type": "code",
      "execution_count": null,
      "metadata": {
        "id": "36_m35zIyN2h"
      },
      "outputs": [],
      "source": [
        "list_of_randoms = []\n",
        "\n",
        "for i in range(0, 10):\n",
        "  n = random.randint(0, 2000)\n",
        "  list_of_randoms.append(n)\n",
        "\n",
        "# print the length of the list and its members\n",
        "print(len(list_of_randoms), list_of_randoms)"
      ]
    },
    {
      "cell_type": "markdown",
      "metadata": {
        "id": "7Aw4WiDS92MU"
      },
      "source": [
        "### Print the numbers and their index"
      ]
    },
    {
      "cell_type": "code",
      "execution_count": null,
      "metadata": {
        "id": "h3ochjQlzQ4e"
      },
      "outputs": [],
      "source": [
        "for i in range(0, 10):\n",
        "  print(\"element\", i, \"is\", list_of_randoms[i])"
      ]
    },
    {
      "cell_type": "markdown",
      "metadata": {},
      "source": [
        "### Zero-based Indexing\n",
        "\n",
        "The first index of a list is $0$, and for a list of length $n$, its last index will be $n - 1$."
      ]
    },
    {
      "cell_type": "code",
      "execution_count": null,
      "metadata": {
        "id": "uT7whk1u7yEE"
      },
      "outputs": [],
      "source": [
        "list_of_randoms[0], list_of_randoms[9]"
      ]
    },
    {
      "cell_type": "markdown",
      "metadata": {
        "id": "zIJjJ8rx_W8s"
      },
      "source": [
        "### Slicing\n",
        "\n",
        "Python has a built-in mechanism called *slicing* for getting sub-sections of a list.\n",
        "\n",
        "Instead of a single index, we specify two values in the square bracket, separated by a $:$, to specify where our slice starts and ends.\n",
        "\n",
        "The second index in the bracket is not included in the slice.\n",
        "\n",
        "If the first index is blank, the slice will start at index $0$, and if the second index is blank it will go until the end of the list."
      ]
    },
    {
      "cell_type": "code",
      "execution_count": null,
      "metadata": {
        "id": "ytoCAy4p_dCZ"
      },
      "outputs": [],
      "source": [
        "# The list\n",
        "print_list_with_index(list_of_randoms)\n",
        "\n",
        "# First 5 items\n",
        "print(list_of_randoms[:5])\n",
        "\n",
        "# Last 5 items\n",
        "print(list_of_randoms[-5:])\n",
        "\n",
        "# The 5 items at indexes [3] - [7]\n",
        "print(list_of_randoms[3:8])"
      ]
    },
    {
      "cell_type": "markdown",
      "metadata": {
        "id": "tEQUt3lwY2xE"
      },
      "source": [
        "## Objects/Dictionaries"
      ]
    },
    {
      "cell_type": "markdown",
      "metadata": {
        "id": "QSodBdxw0byR"
      },
      "source": [
        "### Creating objects"
      ]
    },
    {
      "cell_type": "code",
      "execution_count": null,
      "metadata": {
        "id": "Hukt4YNv0avQ"
      },
      "outputs": [],
      "source": [
        "my_info = {\n",
        "  \"name\": \"thiago\",\n",
        "  \"id\": 8114,\n",
        "  \"zip\": 11001,\n",
        "  \"grades\": [90, 80, 60],\n",
        "  \"attendance\": [True, True, False, True, True],\n",
        "  \"final grade\": \"A\"\n",
        "}\n",
        "my_info"
      ]
    },
    {
      "cell_type": "markdown",
      "metadata": {
        "id": "RJog1ZUU1kqO"
      },
      "source": [
        "### Accessing values at specific keys"
      ]
    },
    {
      "cell_type": "code",
      "execution_count": null,
      "metadata": {
        "id": "xvoyXmaJ1jtp"
      },
      "outputs": [],
      "source": [
        "my_grades = my_info[\"grades\"]\n",
        "print(my_grades)"
      ]
    },
    {
      "cell_type": "markdown",
      "metadata": {
        "id": "k2sCp_La1PiP"
      },
      "source": [
        "### Iterating over items"
      ]
    },
    {
      "cell_type": "code",
      "execution_count": null,
      "metadata": {
        "id": "Mkw7MQWg1SYW"
      },
      "outputs": [],
      "source": [
        "for key, val in my_info.items():\n",
        "  print(\"key\", key, \"has value\", val)"
      ]
    },
    {
      "cell_type": "markdown",
      "metadata": {
        "id": "YIV3UD4N7rvd"
      },
      "source": [
        "### List of objects\n",
        "\n",
        "Creating a list of 10 objects with random heights and brooklyn zip codes."
      ]
    },
    {
      "cell_type": "code",
      "execution_count": null,
      "metadata": {
        "id": "JZ0HeNOh7xRY"
      },
      "outputs": [],
      "source": [
        "my_data = []\n",
        "\n",
        "for c in range(0, 10):\n",
        "  my_object = {\n",
        "    \"height\": random.randint(60, 70),\n",
        "    \"zip\": random.randint(11200, 11240)\n",
        "  }\n",
        "\n",
        "  my_data.append(my_object)"
      ]
    },
    {
      "cell_type": "code",
      "execution_count": null,
      "metadata": {
        "id": "r9uxkXFJ-31z"
      },
      "outputs": [],
      "source": [
        "for d in my_data:\n",
        "  print(d)"
      ]
    },
    {
      "cell_type": "markdown",
      "metadata": {
        "id": "xB3yvp9rQzDB"
      },
      "source": [
        "## Functions\n",
        "\n",
        "Repeatable code with parameters"
      ]
    },
    {
      "cell_type": "code",
      "execution_count": null,
      "metadata": {
        "id": "HmKQsv0ERh2-"
      },
      "outputs": [],
      "source": [
        "def say_hello(name):\n",
        "  print(\"hello \" + name + \". How are you today?\")\n",
        "\n",
        "say_hello(\"thiago\")\n",
        "say_hello(\"dominique\")\n",
        "say_hello(\"pepe\")"
      ]
    },
    {
      "cell_type": "markdown",
      "metadata": {
        "id": "Rj5q33lzR9sE"
      },
      "source": [
        "## Return values\n",
        "\n",
        "Functions can also return values calculated from the parameters"
      ]
    },
    {
      "cell_type": "code",
      "execution_count": null,
      "metadata": {
        "id": "AbK9xOYtQ0NG"
      },
      "outputs": [],
      "source": [
        "def add2(A, B):\n",
        "  return A + B\n",
        "\n",
        "x = add2(20, 30)\n",
        "y = add2(30, 55)\n",
        "\n",
        "print(x, y)"
      ]
    },
    {
      "cell_type": "markdown",
      "metadata": {
        "id": "EuhudlxAREbv"
      },
      "source": [
        "### Function to calculate average of list"
      ]
    },
    {
      "cell_type": "code",
      "execution_count": null,
      "metadata": {
        "id": "XqyFBs36RSJs"
      },
      "outputs": [],
      "source": [
        "def list_average(mlist):\n",
        "  return sum(mlist) / len(mlist)"
      ]
    },
    {
      "cell_type": "code",
      "execution_count": null,
      "metadata": {
        "id": "UbBhKRG7Sbmy"
      },
      "outputs": [],
      "source": [
        "random_list_0 = []\n",
        "random_list_1 = []\n",
        "\n",
        "for c in range(0, 10):\n",
        "  random_list_0.append(random.randint(0, 200))\n",
        "\n",
        "for c in range(0, 50):\n",
        "  random_list_1.append(random.randint(1000, 2000))\n",
        "\n",
        "print(random_list_0)\n",
        "print(random_list_1)"
      ]
    },
    {
      "cell_type": "code",
      "execution_count": null,
      "metadata": {
        "id": "3_OWQmUfStD_"
      },
      "outputs": [],
      "source": [
        "avg_0 = list_average(random_list_0)\n",
        "avg_1 = list_average(random_list_1)\n",
        "\n",
        "print(avg_0)\n",
        "print(avg_1)"
      ]
    },
    {
      "cell_type": "markdown",
      "metadata": {
        "id": "737rI3qoQ0-m"
      },
      "source": [
        "## Classes\n",
        "\n",
        "Encapsulate data"
      ]
    },
    {
      "cell_type": "code",
      "execution_count": null,
      "metadata": {
        "id": "uxz_1PmRQ1zd"
      },
      "outputs": [],
      "source": [
        "class Person:\n",
        "  def __init__(self, name, age, height):\n",
        "    self.name = name\n",
        "    self.age = age\n",
        "    self.height = height\n",
        "    self.grades = []\n",
        "\n",
        "  def say_name(self):\n",
        "    print(self.name)\n",
        "\n",
        "  def average_grades(self):\n",
        "    if len(self.grades) > 0:\n",
        "      return sum(self.grades) / len(self.grades)\n",
        "    else:\n",
        "      return 0\n",
        "\n",
        "p0 = Person(\"pepe\", 32, 67)\n",
        "p1 = Person(\"nina\", 30, 60)\n",
        "\n",
        "print(p0)\n",
        "print(p1)\n",
        "\n",
        "p0.say_name()\n",
        "p1.say_name()"
      ]
    },
    {
      "cell_type": "markdown",
      "metadata": {
        "id": "NG63bfX2XJGE"
      },
      "source": [
        "### Access member variables"
      ]
    },
    {
      "cell_type": "code",
      "execution_count": null,
      "metadata": {
        "id": "9nTskZOUWrcR"
      },
      "outputs": [],
      "source": [
        "print(p0.name)\n",
        "print(p1.name)"
      ]
    },
    {
      "cell_type": "markdown",
      "metadata": {
        "id": "0gXiWyNkW9h7"
      },
      "source": [
        "### Encapsulate behavior and calculations"
      ]
    },
    {
      "cell_type": "code",
      "execution_count": null,
      "metadata": {
        "id": "_LqG2culXBa0"
      },
      "outputs": [],
      "source": [
        "# insert grades\n",
        "\n",
        "p0.grades.append(80)\n",
        "p0.grades.append(90)\n",
        "p0.grades.append(85)\n",
        "\n",
        "\n",
        "# get average grade\n",
        "print(p0.average_grades())\n",
        "print(p1.average_grades())"
      ]
    }
  ],
  "metadata": {
    "colab": {
      "authorship_tag": "ABX9TyPpzmkmQEuZ8IyrRhDe+46n",
      "provenance": []
    },
    "kernelspec": {
      "display_name": "Python 3",
      "name": "python3"
    },
    "language_info": {
      "codemirror_mode": {
        "name": "ipython",
        "version": 3
      },
      "file_extension": ".py",
      "mimetype": "text/x-python",
      "name": "python",
      "nbconvert_exporter": "python",
      "pygments_lexer": "ipython3",
      "version": "3.10.13"
    }
  },
  "nbformat": 4,
  "nbformat_minor": 0
}
